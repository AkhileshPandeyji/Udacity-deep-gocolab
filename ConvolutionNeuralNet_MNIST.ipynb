{
  "nbformat": 4,
  "nbformat_minor": 0,
  "metadata": {
    "colab": {
      "name": "ConvolutionNeuralNet-MNIST.ipynb",
      "version": "0.3.2",
      "provenance": [],
      "include_colab_link": true
    },
    "kernelspec": {
      "name": "python3",
      "display_name": "Python 3"
    },
    "accelerator": "GPU"
  },
  "cells": [
    {
      "cell_type": "markdown",
      "metadata": {
        "id": "view-in-github",
        "colab_type": "text"
      },
      "source": [
        "<a href=\"https://colab.research.google.com/github/AkhileshPandeyji/Udacity-deep-gocolab/blob/master/ConvolutionNeuralNet_MNIST.ipynb\" target=\"_parent\"><img src=\"https://colab.research.google.com/assets/colab-badge.svg\" alt=\"Open In Colab\"/></a>"
      ]
    },
    {
      "cell_type": "code",
      "metadata": {
        "id": "lX4_EmDeefJI",
        "colab_type": "code",
        "colab": {
          "base_uri": "https://localhost:8080/",
          "height": 34
        },
        "outputId": "430445ba-8f75-47b5-dcdd-24d8f04a257a"
      },
      "source": [
        "import tensorflow as tf\n",
        "import numpy as np\n",
        "import math\n",
        "from tensorflow.examples.tutorials.mnist import input_data\n",
        "import PIL.Image as Image\n",
        "import matplotlib.pyplot as plt\n",
        "\n",
        "print(tf.__version__)\n",
        "\n",
        "tf.logging.set_verbosity(tf.logging.ERROR)\n"
      ],
      "execution_count": 1,
      "outputs": [
        {
          "output_type": "stream",
          "text": [
            "1.14.0\n"
          ],
          "name": "stdout"
        }
      ]
    },
    {
      "cell_type": "code",
      "metadata": {
        "id": "spBTVha8j8W5",
        "colab_type": "code",
        "colab": {}
      },
      "source": [
        "# Initializations\n",
        "\n",
        "#input layer\n",
        "X = tf.placeholder(tf.float32,[None,28,28,1])\n",
        "\n",
        "#we will not flatten this image becoz the positional \n",
        "# properties are lost.\n",
        "\n",
        "# Known Labels\n",
        "Y_ = tf.placeholder(tf.float32)\n",
        "\n",
        "# percentage of dropouts\n",
        "pkeep = tf.placeholder(tf.float32)\n",
        "\n",
        "#constants\n",
        "K = 32\n",
        "L = 64\n",
        "M = 1024\n",
        "out = 10\n",
        "\n",
        "#Weights and biases\n",
        "\n",
        "W1 = tf.Variable(tf.truncated_normal([5,5,1,K],stddev=0.1))\n",
        "B1 = tf.Variable(tf.ones([K])/10)\n",
        "\n",
        "W2 = tf.Variable(tf.truncated_normal([5,5,K,L],stddev=0.1))\n",
        "B2 = tf.Variable(tf.ones([L])/10)\n",
        "\n",
        "\n",
        "W3 = tf.Variable(tf.truncated_normal([7*7*L,M],stddev=0.1))\n",
        "B3 = tf.Variable(tf.zeros([M]))\n",
        "\n",
        "W4 = tf.Variable(tf.truncated_normal([M,out],stddev=0.1))\n",
        "B4 = tf.Variable(tf.zeros([out]))"
      ],
      "execution_count": 0,
      "outputs": []
    },
    {
      "cell_type": "code",
      "metadata": {
        "id": "pjskYUjhndrR",
        "colab_type": "code",
        "colab": {}
      },
      "source": [
        "# Building Model\n",
        "\n",
        "def conv2d(x,W):\n",
        "  return tf.nn.conv2d(x,W,strides=[1,1,1,1],padding='SAME')\n",
        "\n",
        "def maxpool2d(x):\n",
        "  return tf.nn.max_pool(x,ksize=[1,2,2,1],strides=[1,2,2,1],padding='SAME')\n",
        "\n",
        "\n",
        "\n",
        "Y1 = tf.nn.relu(conv2d(X,W1)+B1)\n",
        "Y1 = maxpool2d(Y1)\n",
        "\n",
        "Y2 = tf.nn.relu(conv2d(Y1,W2)+B2)\n",
        "Y2 = maxpool2d(Y2)\n",
        "\n",
        "\n",
        "Yf = tf.reshape(Y2,shape=[-1,7*7*L])\n",
        "\n",
        "Y3 = tf.nn.relu(tf.matmul(Yf,W3)+B3)\n",
        "\n",
        "Y3 = tf.nn.dropout(Y3,pkeep)\n",
        "\n",
        "Ylogits = tf.matmul(Y3,W4)+B4\n",
        "Y = tf.nn.softmax(Ylogits)"
      ],
      "execution_count": 0,
      "outputs": []
    },
    {
      "cell_type": "code",
      "metadata": {
        "id": "RzasygXmpk9U",
        "colab_type": "code",
        "colab": {}
      },
      "source": [
        "# Success Metrics = accuracy+loss+optimizer \n",
        "\n",
        "is_correct = tf.equal(tf.argmax(Y,1),tf.argmax(Y_,1))\n",
        "accuracy = tf.reduce_mean(tf.cast(is_correct,tf.float32))\n",
        "\n",
        "#loss1 = -tf.reduce_sum(Y_*tf.log(Y))\n",
        "loss2 = tf.reduce_mean(tf.nn.softmax_cross_entropy_with_logits(labels=Y_,logits=Ylogits))\n",
        "\n",
        "optimizer = tf.train.AdamOptimizer(0.003)\n",
        "#optimizer = tf.train.GradientDescentOptimizer(0.003)\n",
        "\n",
        "train_step = optimizer.minimize(loss2)"
      ],
      "execution_count": 0,
      "outputs": []
    },
    {
      "cell_type": "code",
      "metadata": {
        "id": "BKTe8jZ-tyPW",
        "colab_type": "code",
        "colab": {
          "base_uri": "https://localhost:8080/",
          "height": 101
        },
        "outputId": "b5527d9a-8a46-43dc-8161-b141bf5b91ca"
      },
      "source": [
        "\n",
        "BATCH_SIZE = 100\n",
        "\n",
        "#getting datasets\n",
        "mnist = input_data.read_data_sets(\"MNIST_data/\",one_hot=True)\n",
        "\n",
        "num_train_examples = mnist.train.num_examples\n",
        "num_val_examples = mnist.validation.num_examples\n",
        "num_test_examples = mnist.test.num_examples\n",
        "\n",
        "print(num_train_examples,num_val_examples,num_test_examples)"
      ],
      "execution_count": 5,
      "outputs": [
        {
          "output_type": "stream",
          "text": [
            "Extracting MNIST_data/train-images-idx3-ubyte.gz\n",
            "Extracting MNIST_data/train-labels-idx1-ubyte.gz\n",
            "Extracting MNIST_data/t10k-images-idx3-ubyte.gz\n",
            "Extracting MNIST_data/t10k-labels-idx1-ubyte.gz\n",
            "55000 5000 10000\n"
          ],
          "name": "stdout"
        }
      ]
    },
    {
      "cell_type": "code",
      "metadata": {
        "id": "Jd1aERuvse0D",
        "colab_type": "code",
        "colab": {
          "base_uri": "https://localhost:8080/",
          "height": 353
        },
        "outputId": "c5a474b6-8ef9-420e-975d-418237323961"
      },
      "source": [
        "# Training = acccuracy on validation set\n",
        "\n",
        "init = tf.global_variables_initializer()\n",
        "\n",
        "sess = tf.Session()\n",
        "sess.run(init)\n",
        "\n",
        "for epoch in range(1000):\n",
        "  batch_x,batch_y = mnist.train.next_batch(BATCH_SIZE)\n",
        "  batch_x = np.reshape(batch_x,[-1,28,28,1])\n",
        "  batch_y = np.reshape(batch_y,[-1,10])\n",
        "  train_dict = {X:batch_x,Y_:batch_y,pkeep:0.75}\n",
        "  sess.run(train_step,feed_dict=train_dict)\n",
        "  \n",
        "  if epoch % 100 == 0:\n",
        "    \n",
        "    t_a,t_l = sess.run([accuracy,loss2],feed_dict=train_dict)\n",
        "    print(\"Training: Accuracy:{},Loss:{} .\".format(t_a,t_l))\n",
        "    \n",
        "    val_x ,val_y= mnist.test.next_batch(BATCH_SIZE)\n",
        "    val_x = np.reshape(val_x,[-1,28,28,1])\n",
        "    val_y = np.reshape(val_y,[-1,10])\n",
        "    \n",
        "    v_a,v_l = sess.run([accuracy,loss2],feed_dict={X:val_x,Y_:val_y,pkeep:1.0})\n",
        "    print(\"Validation: Accuracy:{},Loss:{} .\".format(v_a,v_l))\n"
      ],
      "execution_count": 6,
      "outputs": [
        {
          "output_type": "stream",
          "text": [
            "Training: Accuracy:0.14000000059604645,Loss:21.935932159423828 .\n",
            "Validation: Accuracy:0.15000000596046448,Loss:23.49658966064453 .\n",
            "Training: Accuracy:0.9800000190734863,Loss:0.09300112724304199 .\n",
            "Validation: Accuracy:0.9200000166893005,Loss:0.2115921974182129 .\n",
            "Training: Accuracy:0.949999988079071,Loss:0.13091318309307098 .\n",
            "Validation: Accuracy:0.949999988079071,Loss:0.17595186829566956 .\n",
            "Training: Accuracy:0.9800000190734863,Loss:0.045380521565675735 .\n",
            "Validation: Accuracy:0.9800000190734863,Loss:0.11655038595199585 .\n",
            "Training: Accuracy:0.9800000190734863,Loss:0.07107169926166534 .\n",
            "Validation: Accuracy:0.9700000286102295,Loss:0.09246206283569336 .\n",
            "Training: Accuracy:0.9599999785423279,Loss:0.1285126805305481 .\n",
            "Validation: Accuracy:0.9800000190734863,Loss:0.044687334448099136 .\n",
            "Training: Accuracy:1.0,Loss:0.03754332289099693 .\n",
            "Validation: Accuracy:0.9700000286102295,Loss:0.10976111143827438 .\n",
            "Training: Accuracy:0.9800000190734863,Loss:0.06546539068222046 .\n",
            "Validation: Accuracy:0.9900000095367432,Loss:0.0487540103495121 .\n",
            "Training: Accuracy:0.9900000095367432,Loss:0.03356066346168518 .\n",
            "Validation: Accuracy:0.9599999785423279,Loss:0.13934719562530518 .\n",
            "Training: Accuracy:0.9800000190734863,Loss:0.10900913923978806 .\n",
            "Validation: Accuracy:0.949999988079071,Loss:0.13634724915027618 .\n"
          ],
          "name": "stdout"
        }
      ]
    },
    {
      "cell_type": "code",
      "metadata": {
        "id": "Nx33wP1yv7Gx",
        "colab_type": "code",
        "colab": {
          "base_uri": "https://localhost:8080/",
          "height": 45
        },
        "outputId": "06b406dd-4a19-487f-fc68-67530bfd83bc"
      },
      "source": [
        "# prediction\n",
        "img_file = tf.keras.utils.get_file(\"test2cnn.png\",origin=\"https://raw.githubusercontent.com/do-community/tensorflow-digit-recognition/master/test_img.png\")\n",
        "test_img = Image.open(img_file).convert('L')\n",
        "test_img"
      ],
      "execution_count": 7,
      "outputs": [
        {
          "output_type": "execute_result",
          "data": {
            "image/png": "[encoded data removed]",
            "text/plain": [
              "<PIL.Image.Image image mode=L size=28x28 at 0x7F14C0E39EB8>"
            ]
          },
          "metadata": {
            "tags": []
          },
          "execution_count": 7
        }
      ]
    },
    {
      "cell_type": "code",
      "metadata": {
        "id": "kQNmDsnbBg8L",
        "colab_type": "code",
        "colab": {
          "base_uri": "https://localhost:8080/",
          "height": 34
        },
        "outputId": "af06c160-be29-4364-9945-cb232f9637be"
      },
      "source": [
        "test_img = np.invert(test_img).reshape(-1,28,28,1)\n",
        "prediction = sess.run(tf.argmax(Y,1),feed_dict={X:test_img,pkeep:1.0})\n",
        "print(np.squeeze(prediction))"
      ],
      "execution_count": 8,
      "outputs": [
        {
          "output_type": "stream",
          "text": [
            "2\n"
          ],
          "name": "stdout"
        }
      ]
    },
    {
      "cell_type": "code",
      "metadata": {
        "id": "qaie8qWnCFtb",
        "colab_type": "code",
        "colab": {
          "base_uri": "https://localhost:8080/",
          "height": 1000
        },
        "outputId": "75dbe7b0-289c-4fff-d311-c170a0471bcd"
      },
      "source": [
        "# testing\n",
        "for epoch in range(100):\n",
        "  test_x,test_y = mnist.test.next_batch(BATCH_SIZE)\n",
        "  test_x = np.reshape(test_x,[-1,28,28,1])\n",
        "  test_y = np.reshape(test_y,[-1,10])\n",
        "  \n",
        "  test_a,test_l = sess.run([accuracy,loss2],feed_dict={X:test_x,Y_:test_y,pkeep:1.0})\n",
        "  \n",
        "  print(\"Testing: Accuracy:{},loss:{} .\".format(test_a,test_l))"
      ],
      "execution_count": 9,
      "outputs": [
        {
          "output_type": "stream",
          "text": [
            "Testing: Accuracy:0.9700000286102295,loss:0.09832113236188889 .\n",
            "Testing: Accuracy:0.9700000286102295,loss:0.09400168061256409 .\n",
            "Testing: Accuracy:0.9900000095367432,loss:0.024183427914977074 .\n",
            "Testing: Accuracy:0.9700000286102295,loss:0.13047100603580475 .\n",
            "Testing: Accuracy:0.9800000190734863,loss:0.03769208863377571 .\n",
            "Testing: Accuracy:0.9900000095367432,loss:0.03231829032301903 .\n",
            "Testing: Accuracy:1.0,loss:0.030054187402129173 .\n",
            "Testing: Accuracy:0.9900000095367432,loss:0.026706399396061897 .\n",
            "Testing: Accuracy:0.9900000095367432,loss:0.030702048912644386 .\n",
            "Testing: Accuracy:0.9900000095367432,loss:0.030165722593665123 .\n",
            "Testing: Accuracy:0.9900000095367432,loss:0.02389710582792759 .\n",
            "Testing: Accuracy:0.9700000286102295,loss:0.08162971585988998 .\n",
            "Testing: Accuracy:0.9700000286102295,loss:0.05946320667862892 .\n",
            "Testing: Accuracy:0.9800000190734863,loss:0.059244245290756226 .\n",
            "Testing: Accuracy:0.9700000286102295,loss:0.08932279795408249 .\n",
            "Testing: Accuracy:0.9700000286102295,loss:0.05581442266702652 .\n",
            "Testing: Accuracy:0.9900000095367432,loss:0.01546795479953289 .\n",
            "Testing: Accuracy:0.9900000095367432,loss:0.02271793596446514 .\n",
            "Testing: Accuracy:0.9599999785423279,loss:0.09795823693275452 .\n",
            "Testing: Accuracy:0.9599999785423279,loss:0.13234855234622955 .\n",
            "Testing: Accuracy:0.9700000286102295,loss:0.0826117992401123 .\n",
            "Testing: Accuracy:0.9599999785423279,loss:0.12923307716846466 .\n",
            "Testing: Accuracy:0.9800000190734863,loss:0.05057645961642265 .\n",
            "Testing: Accuracy:0.9599999785423279,loss:0.09352055191993713 .\n",
            "Testing: Accuracy:0.9700000286102295,loss:0.07853830605745316 .\n",
            "Testing: Accuracy:0.9900000095367432,loss:0.036452773958444595 .\n",
            "Testing: Accuracy:0.9599999785423279,loss:0.09148544073104858 .\n",
            "Testing: Accuracy:1.0,loss:0.02499048411846161 .\n",
            "Testing: Accuracy:0.9900000095367432,loss:0.04793353006243706 .\n",
            "Testing: Accuracy:0.9900000095367432,loss:0.04189055785536766 .\n",
            "Testing: Accuracy:0.9700000286102295,loss:0.068903848528862 .\n",
            "Testing: Accuracy:0.9700000286102295,loss:0.11403340101242065 .\n",
            "Testing: Accuracy:0.9800000190734863,loss:0.04710174724459648 .\n",
            "Testing: Accuracy:0.9800000190734863,loss:0.11207260936498642 .\n",
            "Testing: Accuracy:0.9599999785423279,loss:0.05579867959022522 .\n",
            "Testing: Accuracy:0.9700000286102295,loss:0.08765987306833267 .\n",
            "Testing: Accuracy:0.9599999785423279,loss:0.08419697731733322 .\n",
            "Testing: Accuracy:0.9900000095367432,loss:0.028625082224607468 .\n",
            "Testing: Accuracy:0.9900000095367432,loss:0.03643215075135231 .\n",
            "Testing: Accuracy:0.9800000190734863,loss:0.0598323829472065 .\n",
            "Testing: Accuracy:0.9900000095367432,loss:0.03719228506088257 .\n",
            "Testing: Accuracy:0.9800000190734863,loss:0.04851663485169411 .\n",
            "Testing: Accuracy:0.9700000286102295,loss:0.14484868943691254 .\n",
            "Testing: Accuracy:0.9900000095367432,loss:0.040022727102041245 .\n",
            "Testing: Accuracy:1.0,loss:0.018519017845392227 .\n",
            "Testing: Accuracy:0.9700000286102295,loss:0.053613435477018356 .\n",
            "Testing: Accuracy:0.9800000190734863,loss:0.03591558709740639 .\n",
            "Testing: Accuracy:0.9800000190734863,loss:0.046236325055360794 .\n",
            "Testing: Accuracy:1.0,loss:0.014837749302387238 .\n",
            "Testing: Accuracy:0.9700000286102295,loss:0.06689958274364471 .\n",
            "Testing: Accuracy:1.0,loss:0.01341989915817976 .\n",
            "Testing: Accuracy:0.9900000095367432,loss:0.022600743919610977 .\n",
            "Testing: Accuracy:0.9900000095367432,loss:0.042002733796834946 .\n",
            "Testing: Accuracy:0.9800000190734863,loss:0.04313942790031433 .\n",
            "Testing: Accuracy:0.9700000286102295,loss:0.05464528873562813 .\n",
            "Testing: Accuracy:1.0,loss:0.016783075407147408 .\n",
            "Testing: Accuracy:0.9900000095367432,loss:0.04029582813382149 .\n",
            "Testing: Accuracy:0.9900000095367432,loss:0.0327795185148716 .\n",
            "Testing: Accuracy:0.9599999785423279,loss:0.134859099984169 .\n",
            "Testing: Accuracy:0.9599999785423279,loss:0.09285598993301392 .\n",
            "Testing: Accuracy:0.9800000190734863,loss:0.06057022511959076 .\n",
            "Testing: Accuracy:0.9700000286102295,loss:0.09103656560182571 .\n",
            "Testing: Accuracy:0.9700000286102295,loss:0.11235387623310089 .\n",
            "Testing: Accuracy:0.9800000190734863,loss:0.08677732199430466 .\n",
            "Testing: Accuracy:0.9900000095367432,loss:0.07329010218381882 .\n",
            "Testing: Accuracy:0.9599999785423279,loss:0.11260532587766647 .\n",
            "Testing: Accuracy:1.0,loss:0.043938931077718735 .\n",
            "Testing: Accuracy:0.9800000190734863,loss:0.06686073541641235 .\n",
            "Testing: Accuracy:0.9900000095367432,loss:0.02010667510330677 .\n",
            "Testing: Accuracy:0.9900000095367432,loss:0.028131278231739998 .\n",
            "Testing: Accuracy:0.9700000286102295,loss:0.13215522468090057 .\n",
            "Testing: Accuracy:0.9900000095367432,loss:0.033575333654880524 .\n",
            "Testing: Accuracy:0.9700000286102295,loss:0.11941493302583694 .\n",
            "Testing: Accuracy:0.9800000190734863,loss:0.047001924365758896 .\n",
            "Testing: Accuracy:0.9800000190734863,loss:0.07428921014070511 .\n",
            "Testing: Accuracy:1.0,loss:0.007219391409307718 .\n",
            "Testing: Accuracy:0.9800000190734863,loss:0.035062722861766815 .\n",
            "Testing: Accuracy:0.949999988079071,loss:0.10757873207330704 .\n",
            "Testing: Accuracy:0.9800000190734863,loss:0.04813027009367943 .\n",
            "Testing: Accuracy:0.9900000095367432,loss:0.037368375808000565 .\n",
            "Testing: Accuracy:0.9800000190734863,loss:0.04762391000986099 .\n",
            "Testing: Accuracy:0.9900000095367432,loss:0.06325557827949524 .\n",
            "Testing: Accuracy:0.9700000286102295,loss:0.06345032155513763 .\n",
            "Testing: Accuracy:0.9800000190734863,loss:0.03670072928071022 .\n",
            "Testing: Accuracy:0.9800000190734863,loss:0.04827173799276352 .\n",
            "Testing: Accuracy:0.9900000095367432,loss:0.03651905432343483 .\n",
            "Testing: Accuracy:0.9900000095367432,loss:0.025955356657505035 .\n",
            "Testing: Accuracy:0.9599999785423279,loss:0.07842027395963669 .\n",
            "Testing: Accuracy:0.9800000190734863,loss:0.030515698716044426 .\n",
            "Testing: Accuracy:0.9800000190734863,loss:0.11643007397651672 .\n",
            "Testing: Accuracy:0.9900000095367432,loss:0.028532810509204865 .\n",
            "Testing: Accuracy:0.9700000286102295,loss:0.0988069698214531 .\n",
            "Testing: Accuracy:0.9900000095367432,loss:0.03664859011769295 .\n",
            "Testing: Accuracy:0.9900000095367432,loss:0.07955612242221832 .\n",
            "Testing: Accuracy:0.9700000286102295,loss:0.08291426301002502 .\n",
            "Testing: Accuracy:0.9800000190734863,loss:0.04913661628961563 .\n",
            "Testing: Accuracy:0.9800000190734863,loss:0.05755801498889923 .\n",
            "Testing: Accuracy:1.0,loss:0.013487998396158218 .\n",
            "Testing: Accuracy:0.9900000095367432,loss:0.03193388506770134 .\n",
            "Testing: Accuracy:0.9599999785423279,loss:0.08014021813869476 .\n"
          ],
          "name": "stdout"
        }
      ]
    },
    {
      "cell_type": "code",
      "metadata": {
        "id": "J8ZUULlrD4-0",
        "colab_type": "code",
        "colab": {}
      },
      "source": [
        ""
      ],
      "execution_count": 0,
      "outputs": []
    }
  ]
}