{
  "nbformat": 4,
  "nbformat_minor": 0,
  "metadata": {
    "colab": {
      "name": "ArtificialNeuralNet-MNIST.ipynb",
      "version": "0.3.2",
      "provenance": [],
      "include_colab_link": true
    },
    "kernelspec": {
      "name": "python3",
      "display_name": "Python 3"
    },
    "accelerator": "GPU"
  },
  "cells": [
    {
      "cell_type": "markdown",
      "metadata": {
        "id": "view-in-github",
        "colab_type": "text"
      },
      "source": [
        "<a href=\"https://colab.research.google.com/github/AkhileshPandeyji/Udacity-deep-gocolab/blob/master/ArtificialNeuralNet_MNIST.ipynb\" target=\"_parent\"><img src=\"https://colab.research.google.com/assets/colab-badge.svg\" alt=\"Open In Colab\"/></a>"
      ]
    },
    {
      "cell_type": "code",
      "metadata": {
        "id": "nV0RCYSVmrdX",
        "colab_type": "code",
        "colab": {
          "base_uri": "https://localhost:8080/",
          "height": 34
        },
        "outputId": "aa7f981c-d5b0-4eef-b4a8-833cc478f924"
      },
      "source": [
        "import tensorflow as tf\n",
        "import numpy as np\n",
        "import math\n",
        "import matplotlib.pyplot as plt\n",
        "import random\n",
        "\n",
        "print(tf.__version__)\n",
        "tf.logging.set_verbosity(tf.logging.ERROR)\n"
      ],
      "execution_count": 1,
      "outputs": [
        {
          "output_type": "stream",
          "text": [
            "1.14.0\n"
          ],
          "name": "stdout"
        }
      ]
    },
    {
      "cell_type": "code",
      "metadata": {
        "id": "w0FHn29onVGO",
        "colab_type": "code",
        "colab": {}
      },
      "source": [
        "# initializations\n",
        "\n",
        "BATCH_SIZE = 100\n",
        "n_inputs = 784\n",
        "# inputs for input layer\n",
        "\n",
        "#X = tf.placeholder(tf.float32,[None,n_inputs])\n",
        "X = tf.placeholder(tf.float32,[None,28,28,1])\n",
        "pkeep = tf.placeholder(tf.float32)\n",
        "\n",
        "# flattened vector\n",
        "X = tf.reshape(X,[-1,784])\n",
        " \n",
        "# known labels\n",
        "Y_ = tf.placeholder(tf.float32,[None,10])\n"
      ],
      "execution_count": 0,
      "outputs": []
    },
    {
      "cell_type": "code",
      "metadata": {
        "id": "RmWgLqjozpFt",
        "colab_type": "code",
        "colab": {}
      },
      "source": [
        "# weights and biases\n",
        "# Five fully-connected layers\n",
        "\n",
        "K = 512\n",
        "L = 256\n",
        "M = 128\n",
        "N = 64\n",
        "out = 10\n",
        "\n",
        "W1 = tf.Variable(tf.truncated_normal([784,K],stddev=0.1))\n",
        "B1 = tf.Variable(tf.zeros([K]))\n",
        "\n",
        "W2 = tf.Variable(tf.truncated_normal([K,L],stddev=0.1))\n",
        "B2 = tf.Variable(tf.zeros([L]))\n",
        "\n",
        "W3 = tf.Variable(tf.truncated_normal([L,M],stddev=0.1))\n",
        "B3 = tf.Variable(tf.zeros([M]))\n",
        "\n",
        "W4 = tf.Variable(tf.truncated_normal([M,N],stddev=0.1))\n",
        "B4 = tf.Variable(tf.zeros([N]))\n",
        "\n",
        "W5 = tf.Variable(tf.truncated_normal([N,out],stddev=0.1))\n",
        "B5 = tf.Variable(tf.zeros([out]))"
      ],
      "execution_count": 0,
      "outputs": []
    },
    {
      "cell_type": "code",
      "metadata": {
        "id": "GxlElIpWztbB",
        "colab_type": "code",
        "colab": {}
      },
      "source": [
        "# Model Creation using relu and softmax - can also use sigmoid instead of relu\n",
        "\n",
        "Y1 = tf.nn.relu(tf.matmul(X,W1)+B1)\n",
        "Y2 = tf.nn.relu(tf.matmul(Y1,W2)+B2)\n",
        "Y3 = tf.nn.relu(tf.matmul(Y2,W3)+B3)\n",
        "Y4 = tf.nn.relu(tf.matmul(Y3,W4)+B4)\n",
        "Y5 = tf.nn.dropout(Y4,pkeep)\n",
        "Ylogits = tf.matmul(Y5,W5)+B5\n",
        "Y = tf.nn.softmax(Ylogits)"
      ],
      "execution_count": 0,
      "outputs": []
    },
    {
      "cell_type": "code",
      "metadata": {
        "id": "tCV856h90G2W",
        "colab_type": "code",
        "colab": {}
      },
      "source": [
        "# Success Metrics - Loss, Optimizer and accuracy\n",
        "cross_entropy = -tf.reduce_sum(Y_*tf.log(Y))\n",
        "#cross_entropy = tf.reduce_mean(tf.nn.softmax_cross_entropy_with_logits(labels=Y_,logits=Ylogits))\n",
        "optimizer = tf.train.AdamOptimizer(0.0003)\n",
        "train_step = optimizer.minimize(cross_entropy)\n",
        "\n",
        "is_correct = tf.equal(tf.argmax(Y_,1),tf.argmax(Y,1))\n",
        "accuracy = tf.reduce_mean(tf.cast(is_correct,tf.float32))"
      ],
      "execution_count": 0,
      "outputs": []
    },
    {
      "cell_type": "code",
      "metadata": {
        "id": "4yuGh4YU1dDK",
        "colab_type": "code",
        "colab": {}
      },
      "source": [
        "# Running Session and training model\n",
        "init = tf.global_variables_initializer()\n",
        "\n",
        "sess = tf.Session()\n",
        "sess.run(init)\n",
        "\n"
      ],
      "execution_count": 0,
      "outputs": []
    },
    {
      "cell_type": "code",
      "metadata": {
        "id": "j4TViFdg3a9n",
        "colab_type": "code",
        "colab": {
          "base_uri": "https://localhost:8080/",
          "height": 101
        },
        "outputId": "d9f1a140-5481-402f-8ce3-b9757e10f4e1"
      },
      "source": [
        "# importing libraries for getting mnist dataset\n",
        "from tensorflow.examples.tutorials.mnist import input_data\n",
        "\n",
        "mnist = input_data.read_data_sets('MNIST_data/',one_hot=True)\n",
        "\n",
        "num_train_examples = mnist.train.num_examples\n",
        "num_val_examples = mnist.validation.num_examples\n",
        "num_test_examples = mnist.test.num_examples\n",
        "\n",
        "\n",
        "print(num_train_examples,num_val_examples,num_test_examples)"
      ],
      "execution_count": 7,
      "outputs": [
        {
          "output_type": "stream",
          "text": [
            "Extracting MNIST_data/train-images-idx3-ubyte.gz\n",
            "Extracting MNIST_data/train-labels-idx1-ubyte.gz\n",
            "Extracting MNIST_data/t10k-images-idx3-ubyte.gz\n",
            "Extracting MNIST_data/t10k-labels-idx1-ubyte.gz\n",
            "55000 5000 10000\n"
          ],
          "name": "stdout"
        }
      ]
    },
    {
      "cell_type": "code",
      "metadata": {
        "id": "jdb4F0jY5ezg",
        "colab_type": "code",
        "colab": {
          "base_uri": "https://localhost:8080/",
          "height": 353
        },
        "outputId": "b58aa2dd-e97d-4326-e05b-cc664d6565c5"
      },
      "source": [
        "for epoch in range(1000):\n",
        "#   print(\"Epoch-{}/1000\".format(epoch))\n",
        "  batch_x,batch_y = mnist.train.next_batch(BATCH_SIZE)\n",
        "  train_dict = {X:batch_x,Y_:batch_y,pkeep:0.75}\n",
        "  sess.run(train_step,feed_dict=train_dict)\n",
        "  \n",
        "#   #training accuracy and loss\n",
        "#   t_a,t_c = sess.run([accuracy,cross_entropy],feed_dict=train_dict)\n",
        "  \n",
        "#   #Validation accuracy and loss\n",
        "#   v_a,v_c = sess.run([accuracy,cross_entropy],feed_dict={X:mnist.test.images,Y_:mnist.test.labels,pkeep:1.0})\n",
        "  \n",
        "#   print(\"Training: Accuracy:{},Loss:{} \".format(t_a,t_c))\n",
        "#   print(\"Validation: Accuracy:{},Loss:{}\".format(v_a,v_c))\n",
        "  \n",
        "  if epoch % 100 == 0:\n",
        "    a,c = sess.run([accuracy,cross_entropy],feed_dict={X:batch_x,Y_:batch_y,pkeep:1.0})\n",
        "    print(\"Training: Accuracy:{},Loss:{} \".format(a,c))\n",
        "    v_a,v_c = sess.run([accuracy,cross_entropy],feed_dict={X:mnist.test.images,Y_:mnist.test.labels,pkeep:1.0})\n",
        "    print(\"Validation: Accuracy:{},Loss:{}\".format(v_a,v_c))"
      ],
      "execution_count": 8,
      "outputs": [
        {
          "output_type": "stream",
          "text": [
            "Training: Accuracy:0.23000000417232513,Loss:215.1061553955078 \n",
            "Validation: Accuracy:0.1256999969482422,Loss:22718.51953125\n",
            "Training: Accuracy:0.8899999856948853,Loss:39.52033233642578 \n",
            "Validation: Accuracy:0.8949999809265137,Loss:3741.42626953125\n",
            "Training: Accuracy:0.9300000071525574,Loss:23.112367630004883 \n",
            "Validation: Accuracy:0.9262999892234802,Loss:2557.6396484375\n",
            "Training: Accuracy:0.9300000071525574,Loss:22.470884323120117 \n",
            "Validation: Accuracy:0.9361000061035156,Loss:2200.409423828125\n",
            "Training: Accuracy:0.9399999976158142,Loss:18.946699142456055 \n",
            "Validation: Accuracy:0.9460999965667725,Loss:1812.1640625\n",
            "Training: Accuracy:0.9200000166893005,Loss:30.562145233154297 \n",
            "Validation: Accuracy:0.9490000009536743,Loss:1629.0869140625\n",
            "Training: Accuracy:0.9900000095367432,Loss:6.955602645874023 \n",
            "Validation: Accuracy:0.9544000029563904,Loss:1493.4208984375\n",
            "Training: Accuracy:0.9800000190734863,Loss:13.240516662597656 \n",
            "Validation: Accuracy:0.9581999778747559,Loss:1396.489501953125\n",
            "Training: Accuracy:0.949999988079071,Loss:14.897912979125977 \n",
            "Validation: Accuracy:0.958299994468689,Loss:1296.69921875\n",
            "Training: Accuracy:0.9800000190734863,Loss:7.126882553100586 \n",
            "Validation: Accuracy:0.9635000228881836,Loss:1180.0396728515625\n"
          ],
          "name": "stdout"
        }
      ]
    },
    {
      "cell_type": "code",
      "metadata": {
        "id": "ZeiEoJCa-sRJ",
        "colab_type": "code",
        "colab": {
          "base_uri": "https://localhost:8080/",
          "height": 50
        },
        "outputId": "a3a6d27e-18d0-4543-8bbd-71bf1f18e2c0"
      },
      "source": [
        "import PIL.Image as Image\n",
        "\n",
        "img_file = tf.keras.utils.get_file(\"test2digit.png\",origin='https://raw.githubusercontent.com/do-community/tensorflow-digit-recognition/master/test_img.png')\n",
        "test_img = np.invert(Image.open(img_file).convert('L')).ravel()\n",
        "print(test_img.shape)\n",
        "prediction = sess.run(tf.argmax(Y,1),feed_dict={X:[test_img],pkeep:1.0})\n",
        "print(prediction[0])"
      ],
      "execution_count": 9,
      "outputs": [
        {
          "output_type": "stream",
          "text": [
            "(784,)\n",
            "2\n"
          ],
          "name": "stdout"
        }
      ]
    },
    {
      "cell_type": "code",
      "metadata": {
        "id": "__qZAyvwNtC7",
        "colab_type": "code",
        "colab": {}
      },
      "source": [
        ""
      ],
      "execution_count": 0,
      "outputs": []
    }
  ]
}